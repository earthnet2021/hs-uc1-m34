{
 "cells": [
  {
   "cell_type": "markdown",
   "metadata": {},
   "source": [
    "![header](images/dcheader.png)"
   ]
  },
  {
   "cell_type": "markdown",
   "metadata": {},
   "source": [
    "![header](images/3header.PNG)"
   ]
  },
  {
   "cell_type": "code",
   "execution_count": null,
   "metadata": {},
   "outputs": [
    {
     "name": "stdout",
     "output_type": "stream",
     "text": [
      "\n",
      "Collecting usage statistics. To deactivate, set browser.gatherUsageStats to False.\n",
      "\u001b[0m\n",
      "\u001b[0m\n",
      "\u001b[34m\u001b[1m  You can now view your Streamlit app in your browser.\u001b[0m\n",
      "\u001b[0m\n",
      "\u001b[34m  Network URL: \u001b[0m\u001b[1mhttp://51.83.108.105:8502\u001b[0m\n",
      "\u001b[34m  External URL: \u001b[0m\u001b[1mhttp://51.83.108.105:8502\u001b[0m\n",
      "\u001b[0m\n"
     ]
    }
   ],
   "source": [
    "! cd /srv/hops/deepcube/earthnet-models-pytorch-demo; streamlit run forecasting_app/demo/app.py --server.fileWatcherType none ."
   ]
  },
  {
   "cell_type": "markdown",
   "metadata": {},
   "source": [
    "# |\n",
    "# |\n",
    "# |\n",
    "# |\n",
    "# |\n",
    "# |\n",
    "# |\n",
    "# |\n",
    "# |\n"
   ]
  },
  {
   "cell_type": "code",
   "execution_count": 7,
   "metadata": {},
   "outputs": [
    {
     "data": {
      "text/plain": [
       "'/srv/hops/deepcube/earthnet-models-pytorch-demo'"
      ]
     },
     "execution_count": 7,
     "metadata": {},
     "output_type": "execute_result"
    }
   ],
   "source": [
    "## Dev tools, just to move in Notebook files to the workdir\n",
    "from hops import hdfs\n",
    "hdfs.copy_to_local(\"hdfs:///Projects/test_uc1/Jupyter/hs-uc1-m24/earthnet-models-pytorch-demo\", \"/srv/hops/deepcube\", overwrite=True)"
   ]
  }
 ],
 "metadata": {
  "kernelspec": {
   "display_name": "Python 3",
   "language": "python",
   "name": "python3"
  },
  "language_info": {
   "codemirror_mode": {
    "name": "ipython",
    "version": 3
   },
   "file_extension": ".py",
   "mimetype": "text/x-python",
   "name": "python",
   "nbconvert_exporter": "python",
   "pygments_lexer": "ipython3",
   "version": "3.6.7"
  }
 },
 "nbformat": 4,
 "nbformat_minor": 5
}
